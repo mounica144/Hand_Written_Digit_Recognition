{
 "cells": [
  {
   "cell_type": "code",
   "execution_count": 42,
   "metadata": {},
   "outputs": [
    {
     "data": {
      "image/png": "[encoded data removed]",
      "text/plain": [
       "<matplotlib.figure.Figure at 0x1818685cc0>"
      ]
     },
     "metadata": {},
     "output_type": "display_data"
    }
   ],
   "source": [
    "from keras.datasets import mnist\n",
    "import matplotlib.pyplot as plt\n",
    "\n",
    "(x_train, y_train), (x_test, y_test) = mnist.load_data()\n",
    "plt.subplot(221)\n",
    "plt.imshow(x_train[0], cmap=plt.get_cmap('gray'))\n",
    "plt.subplot(222)\n",
    "plt.imshow(x_train[1], cmap=plt.get_cmap('gray'))\n",
    "plt.subplot(223)\n",
    "plt.imshow(x_train[2], cmap=plt.get_cmap('gray'))\n",
    "plt.subplot(224)\n",
    "plt.imshow(x_train[3], cmap=plt.get_cmap('gray'))\n",
    "# show the plot\n",
    "plt.show()"
   ]
  },
  {
   "cell_type": "code",
   "execution_count": 1,
   "metadata": {
    "collapsed": true
   },
   "outputs": [],
   "source": [
    "import numpy as np\n",
    "seed = 7\n",
    "np.random.seed(seed)"
   ]
  },
  {
   "cell_type": "code",
   "execution_count": 31,
   "metadata": {},
   "outputs": [
    {
     "name": "stdout",
     "output_type": "stream",
     "text": [
      "(60000, 28, 28)\n"
     ]
    }
   ],
   "source": [
    "# flatten 28*28 images to a 784 vector for each image\n",
    "print(x_train.shape)\n",
    "num_pixels = x_train.shape[1] * x_train.shape[2]\n",
    "x_train = x_train.reshape(x_train.shape[0], num_pixels).astype('float32')\n",
    "x_test = x_test.reshape(x_test.shape[0], num_pixels).astype('float32')"
   ]
  },
  {
   "cell_type": "code",
   "execution_count": 32,
   "metadata": {},
   "outputs": [],
   "source": [
    "# normalize inputs from 0-255 to 0-1\n",
    "x_train = x_train / 255\n",
    "x_test = x_test / 255"
   ]
  },
  {
   "cell_type": "code",
   "execution_count": 33,
   "metadata": {
    "collapsed": true
   },
   "outputs": [],
   "source": [
    "from keras.utils import np_utils\n",
    "# one hot encode outputs\n",
    "y_train = np_utils.to_categorical(y_train)\n",
    "y_test = np_utils.to_categorical(y_test)\n",
    "num_classes = y_test.shape[1]"
   ]
  },
  {
   "cell_type": "code",
   "execution_count": 34,
   "metadata": {},
   "outputs": [],
   "source": [
    "from keras.models import Sequential\n",
    "from keras.layers import Dense\n",
    "# define baseline model\n",
    "def baseline_model():\n",
    "\t# create model\n",
    "\tmodel = Sequential()\n",
    "\tmodel.add(Dense(num_pixels, input_dim=num_pixels, kernel_initializer='normal', activation='relu'))\n",
    "\tmodel.add(Dense(num_classes, kernel_initializer='normal', activation='softmax'))\n",
    "\t# Compile model\n",
    "\tmodel.compile(loss='categorical_crossentropy', optimizer='adam', metrics=['accuracy'])\n",
    "\treturn model"
   ]
  },
  {
   "cell_type": "code",
   "execution_count": 35,
   "metadata": {},
   "outputs": [
    {
     "name": "stdout",
     "output_type": "stream",
     "text": [
      "Train on 60000 samples, validate on 10000 samples\n",
      "Epoch 1/10\n",
      " - 4s - loss: 0.2783 - acc: 0.9208 - val_loss: 0.1408 - val_acc: 0.9573\n",
      "Epoch 2/10\n",
      " - 3s - loss: 0.1117 - acc: 0.9676 - val_loss: 0.0925 - val_acc: 0.9704\n",
      "Epoch 3/10\n",
      " - 3s - loss: 0.0719 - acc: 0.9797 - val_loss: 0.0786 - val_acc: 0.9777\n",
      "Epoch 4/10\n",
      " - 3s - loss: 0.0505 - acc: 0.9857 - val_loss: 0.0748 - val_acc: 0.9768\n",
      "Epoch 5/10\n",
      " - 3s - loss: 0.0375 - acc: 0.9893 - val_loss: 0.0684 - val_acc: 0.9793\n",
      "Epoch 6/10\n",
      " - 3s - loss: 0.0269 - acc: 0.9927 - val_loss: 0.0631 - val_acc: 0.9806\n",
      "Epoch 7/10\n",
      " - 3s - loss: 0.0211 - acc: 0.9946 - val_loss: 0.0623 - val_acc: 0.9809\n",
      "Epoch 8/10\n",
      " - 3s - loss: 0.0144 - acc: 0.9968 - val_loss: 0.0648 - val_acc: 0.9795\n",
      "Epoch 9/10\n",
      " - 4s - loss: 0.0108 - acc: 0.9978 - val_loss: 0.0577 - val_acc: 0.9814\n",
      "Epoch 10/10\n",
      " - 4s - loss: 0.0079 - acc: 0.9986 - val_loss: 0.0577 - val_acc: 0.9824\n",
      "Baseline Error: 1.76%\n"
     ]
    }
   ],
   "source": [
    "# build the model\n",
    "model = baseline_model()\n",
    "# Fit the model\n",
    "model.fit(x_train, y_train, validation_data=(x_test, y_test), epochs=10, batch_size=200, verbose=2)\n",
    "# Final evaluation of the model\n",
    "scores = model.evaluate(x_test, y_test, verbose=0)\n",
    "print(\"Baseline Error: %.2f%%\" % (100-scores[1]*100))"
   ]
  },
  {
   "cell_type": "code",
   "execution_count": 4,
   "metadata": {},
   "outputs": [],
   "source": [
    "from keras.layers import Convolution2D\n",
    "from keras.layers import MaxPooling2D\n",
    "from keras.layers import Flatten\n",
    "from keras.layers import Dense\n",
    "from keras.utils import np_utils\n",
    "from keras.datasets import mnist\n",
    "from keras.models import Sequential\n",
    "import numpy as np"
   ]
  },
  {
   "cell_type": "code",
   "execution_count": 7,
   "metadata": {},
   "outputs": [],
   "source": [
    "def conv_model():\n",
    "    classifier = Sequential()\n",
    "    classifier.add(Convolution2D(32,5,5, input_shape = (28, 28, 1), activation = 'relu'))\n",
    "    \"\"\"32- Number of feature detectors\n",
    "    3- Number of rows in a feature detector\n",
    "    3- Number of columns in a feature detector\n",
    "    usually we select a 3*3 feature detector\n",
    "    input_shape = 28* 28 image size\n",
    "    channel = 1 for black and white images\n",
    "    channel = 3 for colored images\"\"\"\n",
    "    classifier.add(MaxPooling2D(pool_size = (2,2)))\n",
    "    # After Applying Maxpooling we will get a reducred feature map.\n",
    "    # Usually we select a pool_size as 2*2\n",
    "    \n",
    "    # Adding a second convolution layer\n",
    "    classifier.add(Convolution2D(16,3,3,activation = 'relu'))\n",
    "    classifier.add(MaxPooling2D(pool_size = (2,2)))\n",
    "    \n",
    "    classifier.add(Flatten())\n",
    "    classifier.add(Dense(output_dim = 128, activation = 'relu'))\n",
    "    # Adding one more hidden layer\n",
    "    classifier.add(Dense(output_dim = 64, activation = 'relu'))\n",
    "    classifier.add(Dense(output_dim = 10, activation = 'softmax'))\n",
    "\n",
    "    # compile CNN\n",
    "    classifier.compile(optimizer = 'adam', loss = 'categorical_crossentropy', metrics = ['accuracy'])\n",
    "    return classifier\n",
    "\n"
   ]
  },
  {
   "cell_type": "code",
   "execution_count": 8,
   "metadata": {},
   "outputs": [
    {
     "name": "stderr",
     "output_type": "stream",
     "text": [
      "/Users/srimounicamotipalli/anaconda3/lib/python3.6/site-packages/ipykernel_launcher.py:3: UserWarning: Update your `Conv2D` call to the Keras 2 API: `Conv2D(32, (5, 5), input_shape=(28, 28, 1..., activation=\"relu\")`\n",
      "  This is separate from the ipykernel package so we can avoid doing imports until\n",
      "/Users/srimounicamotipalli/anaconda3/lib/python3.6/site-packages/ipykernel_launcher.py:16: UserWarning: Update your `Conv2D` call to the Keras 2 API: `Conv2D(16, (3, 3), activation=\"relu\")`\n",
      "  app.launch_new_instance()\n",
      "/Users/srimounicamotipalli/anaconda3/lib/python3.6/site-packages/ipykernel_launcher.py:20: UserWarning: Update your `Dense` call to the Keras 2 API: `Dense(activation=\"relu\", units=128)`\n",
      "/Users/srimounicamotipalli/anaconda3/lib/python3.6/site-packages/ipykernel_launcher.py:22: UserWarning: Update your `Dense` call to the Keras 2 API: `Dense(activation=\"relu\", units=64)`\n",
      "/Users/srimounicamotipalli/anaconda3/lib/python3.6/site-packages/ipykernel_launcher.py:23: UserWarning: Update your `Dense` call to the Keras 2 API: `Dense(activation=\"softmax\", units=10)`\n"
     ]
    },
    {
     "name": "stdout",
     "output_type": "stream",
     "text": [
      "Train on 60000 samples, validate on 10000 samples\n",
      "Epoch 1/10\n",
      "60000/60000 [==============================] - 26s 435us/step - loss: 0.3358 - acc: 0.9015 - val_loss: 0.0923 - val_acc: 0.9705\n",
      "Epoch 2/10\n",
      "60000/60000 [==============================] - 23s 389us/step - loss: 0.0783 - acc: 0.9767 - val_loss: 0.0520 - val_acc: 0.9837\n",
      "Epoch 3/10\n",
      "60000/60000 [==============================] - 23s 386us/step - loss: 0.0546 - acc: 0.9834 - val_loss: 0.0406 - val_acc: 0.9865\n",
      "Epoch 4/10\n",
      "60000/60000 [==============================] - 23s 386us/step - loss: 0.0428 - acc: 0.9868 - val_loss: 0.0347 - val_acc: 0.9885\n",
      "Epoch 5/10\n",
      "60000/60000 [==============================] - 24s 405us/step - loss: 0.0345 - acc: 0.9896 - val_loss: 0.0361 - val_acc: 0.9879\n",
      "Epoch 6/10\n",
      "60000/60000 [==============================] - 25s 422us/step - loss: 0.0295 - acc: 0.9911 - val_loss: 0.0329 - val_acc: 0.9892\n",
      "Epoch 7/10\n",
      "60000/60000 [==============================] - 26s 425us/step - loss: 0.0245 - acc: 0.9922 - val_loss: 0.0260 - val_acc: 0.9921\n",
      "Epoch 8/10\n",
      "60000/60000 [==============================] - 26s 426us/step - loss: 0.0225 - acc: 0.9925 - val_loss: 0.0313 - val_acc: 0.9896\n",
      "Epoch 9/10\n",
      "60000/60000 [==============================] - 23s 389us/step - loss: 0.0210 - acc: 0.9932 - val_loss: 0.0293 - val_acc: 0.9911\n",
      "Epoch 10/10\n",
      "60000/60000 [==============================] - 24s 398us/step - loss: 0.0160 - acc: 0.9948 - val_loss: 0.0297 - val_acc: 0.9898\n",
      "CNN Error: 1.02%\n"
     ]
    },
    {
     "data": {
      "text/plain": [
       "' We have not done any image augmentation here as we have enough number of samples i.e., 60000\\n    But try with doing image augmentation too to know how the accuracy is being effected'"
      ]
     },
     "execution_count": 8,
     "metadata": {},
     "output_type": "execute_result"
    }
   ],
   "source": [
    "\n",
    "(x_train, y_train), (x_test, y_test) = mnist.load_data()\n",
    "# reshape to be [samples][pixels][width][height]\n",
    "x_train = x_train.reshape(x_train.shape[0], 28, 28, 1).astype('float32')\n",
    "x_test = x_test.reshape(x_test.shape[0],28, 28, 1).astype('float32')\n",
    "# normalize inputs from 0-255 to 0-1\n",
    "x_train = x_train / 255\n",
    "x_test = x_test / 255\n",
    "# one hot encode outputs\n",
    "y_train = np_utils.to_categorical(y_train)\n",
    "y_test = np_utils.to_categorical(y_test)\n",
    "# build the model\n",
    "model = conv_model()\n",
    "# Fit the model\n",
    "model.fit(x_train, y_train, validation_data=(x_test, y_test), epochs=10, batch_size=200)\n",
    "\n",
    "# Final evaluation of the model\n",
    "scores = model.evaluate(x_test, y_test, verbose=0)\n",
    "print(\"CNN Error: %.2f%%\" % (100-scores[1]*100))\n",
    "\n",
    "\"\"\" We have not done any image augmentation here as we have enough number of samples i.e., 60000\n",
    "    But try with doing image augmentation too to know how the accuracy is being effected\"\"\""
   ]
  },
  {
   "cell_type": "code",
   "execution_count": null,
   "metadata": {
    "collapsed": true
   },
   "outputs": [],
   "source": []
  }
 ],
 "metadata": {
  "kernelspec": {
   "display_name": "Python 3",
   "language": "python",
   "name": "python3"
  },
  "language_info": {
   "codemirror_mode": {
    "name": "ipython",
    "version": 3
   },
   "file_extension": ".py",
   "mimetype": "text/x-python",
   "name": "python",
   "nbconvert_exporter": "python",
   "pygments_lexer": "ipython3",
   "version": "3.6.2"
  }
 },
 "nbformat": 4,
 "nbformat_minor": 2
}
